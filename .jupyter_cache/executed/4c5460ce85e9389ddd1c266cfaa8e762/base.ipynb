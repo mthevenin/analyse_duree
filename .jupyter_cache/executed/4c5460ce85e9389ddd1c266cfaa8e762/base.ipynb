{
 "cells": [
  {
   "cell_type": "code",
   "execution_count": 1,
   "id": "5e531ed6",
   "metadata": {},
   "outputs": [],
   "source": []
  },
  {
   "cell_type": "code",
   "execution_count": 2,
   "id": "b10e5fd9",
   "metadata": {
    "message": false
   },
   "outputs": [
    {
     "data": {
      "text/html": [
       "<style>div.jp-Notebook .datagrid-container {min-height: 448px; }</style>"
      ],
      "text/plain": [
       "<IPython.core.display.HTML object>"
      ]
     },
     "metadata": {},
     "output_type": "display_data"
    },
    {
     "name": "stdout",
     "output_type": "stream",
     "text": [
      "(prefix now \"https://raw.githubusercontent.com//mthevenin/analyse_duree/master/\n",
      "> bases\")\n"
     ]
    },
    {
     "name": "stdout",
     "output_type": "stream",
     "text": [
      "(SAVASTATA created this dataset on 01AUG2019)\n",
      "(prefix now \"https://www.stata-press.com/data/r18\")\n",
      "\n",
      "     +------------------------------------------+\n",
      "     | id   year   age   surgery   stime   died |\n",
      "     |------------------------------------------|\n",
      "  1. | 15     68    53         0       1      1 |\n",
      "  2. | 43     70    43         0       2      1 |\n",
      "  3. | 61     71    52         0       2      1 |\n",
      "  4. | 75     72    52         0       2      1 |\n",
      "  5. |  6     68    54         0       3      1 |\n",
      "     |------------------------------------------|\n",
      "  6. | 42     70    36         0       3      1 |\n",
      "  7. | 54     71    47         0       3      1 |\n",
      "  8. | 38     70    41         0       5      1 |\n",
      "  9. | 85     73    47         0       5      1 |\n",
      " 10. |  2     68    51         0       6      1 |\n",
      "     +------------------------------------------+\n"
     ]
    }
   ],
   "source": [
    "*| warning: false\n",
    "\n",
    "webuse set \"https://raw.githubusercontent.com//mthevenin/analyse_duree/master/bases/\"\n",
    "webuse  \"transplantation_m\", clear\n",
    "webuse set\n",
    "\n",
    "list id year age surgery stime died in 1/10"
   ]
  },
  {
   "cell_type": "code",
   "execution_count": 3,
   "id": "976cf453",
   "metadata": {},
   "outputs": [
    {
     "name": "stdout",
     "output_type": "stream",
     "text": [
      "\n",
      "                 Beg.                                 Std.\n",
      "   Interval     total   Deaths   Lost   Survival     error     [95% conf. int.]\n",
      "-------------------------------------------------------------------------------\n",
      "    0    30       103       22      1     0.7854    0.0406     0.6926    0.8531\n",
      "   30    60        80       14      2     0.6462    0.0475     0.5449    0.7305\n",
      "   60    90        64       12      0     0.5250    0.0498     0.4232    0.6171\n",
      "   90   120        52        5      1     0.4741    0.0499     0.3738    0.5677\n",
      "  120   150        46        1      1     0.4636    0.0499     0.3637    0.5575\n",
      "  150   180        44        2      0     0.4426    0.0498     0.3435    0.5369\n",
      "  180   210        42        3      1     0.4106    0.0495     0.3132    0.5053\n",
      "  210   240        38        1      0     0.3998    0.0494     0.3030    0.4945\n",
      "  240   270        37        1      1     0.3888    0.0492     0.2928    0.4836\n",
      "  270   300        35        2      0     0.3666    0.0488     0.2720    0.4614\n",
      "  300   330        33        1      0     0.3555    0.0486     0.2618    0.4502\n",
      "  330   360        32        3      1     0.3216    0.0478     0.2308    0.4157\n",
      "  360   390        28        0      1     0.3216    0.0478     0.2308    0.4157\n",
      "  390   420        27        0      1     0.3216    0.0478     0.2308    0.4157\n",
      "  420   450        26        0      2     0.3216    0.0478     0.2308    0.4157\n",
      "  480   510        24        0      1     0.3216    0.0478     0.2308    0.4157\n",
      "  510   540        23        0      1     0.3216    0.0478     0.2308    0.4157\n",
      "  540   570        22        0      1     0.3216    0.0478     0.2308    0.4157\n",
      "  570   600        21        1      1     0.3059    0.0479     0.2155    0.4010\n",
      "  600   630        19        0      1     0.3059    0.0479     0.2155    0.4010\n",
      "  660   690        18        1      1     0.2885    0.0483     0.1982    0.3849\n",
      "  720   750        16        1      0     0.2704    0.0485     0.1807    0.3681\n",
      "  840   870        15        1      1     0.2518    0.0486     0.1629    0.3506\n",
      "  900   930        13        0      1     0.2518    0.0486     0.1629    0.3506\n",
      "  930   960        12        0      1     0.2518    0.0486     0.1629    0.3506\n",
      "  960   990        11        1      0     0.2289    0.0493     0.1404    0.3304\n",
      "  990  1020        10        1      0     0.2060    0.0494     0.1192    0.3093\n",
      " 1020  1050         9        1      0     0.1831    0.0489     0.0992    0.2873\n",
      " 1140  1170         8        0      1     0.1831    0.0489     0.0992    0.2873\n",
      " 1320  1350         7        0      1     0.1831    0.0489     0.0992    0.2873\n",
      " 1380  1410         6        1      2     0.1465    0.0510     0.0645    0.2602\n",
      " 1560  1590         3        0      2     0.1465    0.0510     0.0645    0.2602\n",
      " 1770  1800         1        0      1     0.1465    0.0510     0.0645    0.2602\n",
      "-------------------------------------------------------------------------------\n"
     ]
    },
    {
     "data": {
      "image/png": "[encoded data removed]",
      "text/plain": [
       "<IPython.core.display.Image object>"
      ]
     },
     "metadata": {},
     "output_type": "display_data"
    }
   ],
   "source": [
    "ltable stime died, interval(30) graph ci"
   ]
  },
  {
   "cell_type": "code",
   "execution_count": 4,
   "id": "52d7f5c0",
   "metadata": {},
   "outputs": [],
   "source": [
    "*| eval : false\n",
    "\n",
    "net install qlt, from(\"https://raw.githubusercontent.com/mthevenin/analyse_duree/master/ado/qlt/\") replace\n",
    "\n",
    "* help qlt"
   ]
  },
  {
   "cell_type": "code",
   "execution_count": 5,
   "id": "80b4ac97",
   "metadata": {},
   "outputs": [
    {
     "name": "stdout",
     "output_type": "stream",
     "text": [
      "(SAVASTATA created this dataset on 01AUG2019)\n"
     ]
    }
   ],
   "source": [
    "qui ltable stime died, interval(30) saving(base, replace)\n",
    "use base, clear"
   ]
  },
  {
   "cell_type": "code",
   "execution_count": 6,
   "id": "2b975a0e",
   "metadata": {},
   "outputs": [
    {
     "name": "stdout",
     "output_type": "stream",
     "text": [
      "Duree pour differents quantiles de la fonction de survie\n",
      "Definition des bornes Stata-ltable\n",
      "S(t)=0.90: t=        .\n",
      "S(t)=0.75: t=    7.623\n",
      "S(t)=0.50: t=   74.729\n",
      "S(t)=0.25: t=  849.325\n",
      "S(t)=0.10: t=        .\n"
     ]
    }
   ],
   "source": [
    "qlt"
   ]
  },
  {
   "cell_type": "code",
   "execution_count": 7,
   "id": "0a387790",
   "metadata": {},
   "outputs": [
    {
     "name": "stdout",
     "output_type": "stream",
     "text": [
      "Duree pour differents quantiles de la fonction de survie\n",
      "Definition des bornes Sas-lifetest\n"
     ]
    },
    {
     "name": "stdout",
     "output_type": "stream",
     "text": [
      "S(t)=0.90: t=   13.977\n",
      "S(t)=0.75: t=   37.623\n",
      "S(t)=0.50: t=  104.729\n",
      "S(t)=0.25: t=  906.993\n",
      "S(t)=0.10: t=        .\n"
     ]
    }
   ],
   "source": [
    "qlt, sas"
   ]
  },
  {
   "cell_type": "code",
   "execution_count": 8,
   "id": "c0727d46",
   "metadata": {
    "message": false
   },
   "outputs": [
    {
     "name": "stdout",
     "output_type": "stream",
     "text": [
      "(prefix now \"https://raw.githubusercontent.com//mthevenin/analyse_duree/master/\n",
      "> bases\")\n",
      "(SAVASTATA created this dataset on 01AUG2019)\n",
      "(prefix now \"https://www.stata-press.com/data/r18\")\n"
     ]
    }
   ],
   "source": [
    "*| include: false\n",
    "*| echo: false\n",
    "*| warning: false\n",
    "\n",
    "webuse set \"https://raw.githubusercontent.com//mthevenin/analyse_duree/master/bases/\"\n",
    "webuse  \"transplantation_m\", clear\n",
    "webuse set"
   ]
  },
  {
   "cell_type": "code",
   "execution_count": 9,
   "id": "25405181",
   "metadata": {},
   "outputs": [
    {
     "name": "stdout",
     "output_type": "stream",
     "text": [
      "\n",
      "Survival-time data settings\n",
      "\n",
      "         Failure event: died!=0 & died<.\n",
      "Observed time interval: (0, stime]\n",
      "     Exit on or before: failure\n",
      "\n",
      "--------------------------------------------------------------------------\n",
      "        103  total observations\n",
      "          0  exclusions\n",
      "--------------------------------------------------------------------------\n",
      "        103  observations remaining, representing\n",
      "         75  failures in single-record/single-failure data\n",
      "     31,938  total analysis time at risk and under observation\n",
      "                                                At risk from t =         0\n",
      "                                     Earliest observed entry t =         0\n",
      "                                          Last observed exit t =     1,799\n",
      "\n",
      "     +-----------------------------------------+\n",
      "     | id   stime   died   _st   _d   _t   _t0 |\n",
      "     |-----------------------------------------|\n",
      "  1. | 15       1      1     1    1    1     0 |\n",
      "  2. | 43       2      1     1    1    2     0 |\n",
      "  3. | 61       2      1     1    1    2     0 |\n",
      "  4. | 75       2      1     1    1    2     0 |\n",
      "  5. |  6       3      1     1    1    3     0 |\n",
      "     |-----------------------------------------|\n",
      "  6. | 42       3      1     1    1    3     0 |\n",
      "  7. | 54       3      1     1    1    3     0 |\n",
      "  8. | 38       5      1     1    1    5     0 |\n",
      "  9. | 85       5      1     1    1    5     0 |\n",
      " 10. |  2       6      1     1    1    6     0 |\n",
      "     +-----------------------------------------+\n"
     ]
    }
   ],
   "source": [
    "stset stime, f(died)\n",
    "\n",
    "list id stime died _st _d _t _t0 in 1/10"
   ]
  },
  {
   "cell_type": "code",
   "execution_count": 10,
   "id": "af3243d9",
   "metadata": {},
   "outputs": [
    {
     "name": "stdout",
     "output_type": "stream",
     "text": [
      "\n",
      "        Failure _d: died\n",
      "  Analysis time _t: stime\n",
      "\n"
     ]
    },
    {
     "name": "stdout",
     "output_type": "stream",
     "text": [
      "Kaplan–Meier survivor function\n",
      "\n",
      "             At                  Survivor      Std.\n",
      "  Time     risk   Fail   Lost    function     error     [95% conf. int.]\n",
      "------------------------------------------------------------------------\n",
      "     1      103      1      0      0.9903    0.0097     0.9331    0.9986\n",
      "     2      102      3      0      0.9612    0.0190     0.8998    0.9852\n",
      "     3       99      3      0      0.9320    0.0248     0.8627    0.9670\n",
      "     5       96      2      0      0.9126    0.0278     0.8388    0.9535\n",
      "     6       94      2      0      0.8932    0.0304     0.8155    0.9394\n",
      "     8       92      1      0      0.8835    0.0316     0.8040    0.9321\n",
      "     9       91      1      0      0.8738    0.0327     0.7926    0.9247\n",
      "    11       90      0      1      0.8738    0.0327     0.7926    0.9247\n",
      "    12       89      1      0      0.8640    0.0338     0.7811    0.9171\n",
      "    16       88      3      0      0.8345    0.0367     0.7474    0.8937\n",
      "    17       85      1      0      0.8247    0.0375     0.7363    0.8857\n",
      "    18       84      1      0      0.8149    0.0383     0.7253    0.8777\n",
      "    21       83      2      0      0.7952    0.0399     0.7034    0.8614\n",
      "    28       81      1      0      0.7854    0.0406     0.6926    0.8531\n",
      "    30       80      1      0      0.7756    0.0412     0.6819    0.8448\n",
      "    31       79      0      1      0.7756    0.0412     0.6819    0.8448\n",
      "    32       78      1      0      0.7657    0.0419     0.6710    0.8363\n",
      "    35       77      1      0      0.7557    0.0425     0.6603    0.8278\n",
      "    36       76      1      0      0.7458    0.0431     0.6495    0.8192\n",
      "    37       75      1      0      0.7358    0.0436     0.6388    0.8106\n",
      "    39       74      1      1      0.7259    0.0442     0.6282    0.8019\n",
      "    40       72      2      0      0.7057    0.0452     0.6068    0.7842\n",
      "    43       70      1      0      0.6956    0.0457     0.5961    0.7752\n",
      "    45       69      1      0      0.6856    0.0461     0.5855    0.7662\n",
      "    50       68      1      0      0.6755    0.0465     0.5750    0.7572\n",
      "    51       67      1      0      0.6654    0.0469     0.5645    0.7481\n",
      "    53       66      1      0      0.6553    0.0472     0.5541    0.7390\n",
      "    58       65      1      0      0.6452    0.0476     0.5437    0.7298\n",
      "    61       64      1      0      0.6352    0.0479     0.5333    0.7206\n",
      "    66       63      1      0      0.6251    0.0482     0.5230    0.7113\n",
      "    68       62      2      0      0.6049    0.0487     0.5026    0.6926\n",
      "    69       60      1      0      0.5948    0.0489     0.4924    0.6832\n",
      "    72       59      2      0      0.5747    0.0493     0.4722    0.6643\n",
      "    77       57      1      0      0.5646    0.0494     0.4621    0.6548\n",
      "    78       56      1      0      0.5545    0.0496     0.4521    0.6453\n",
      "    80       55      1      0      0.5444    0.0497     0.4422    0.6357\n",
      "    81       54      1      0      0.5343    0.0498     0.4323    0.6261\n",
      "    85       53      1      0      0.5243    0.0499     0.4224    0.6164\n",
      "    90       52      1      0      0.5142    0.0499     0.4125    0.6067\n",
      "    96       51      1      0      0.5041    0.0499     0.4027    0.5969\n",
      "   100       50      1      0      0.4940    0.0499     0.3930    0.5872\n",
      "   102       49      1      0      0.4839    0.0499     0.3833    0.5773\n",
      "   109       48      0      1      0.4839    0.0499     0.3833    0.5773\n",
      "   110       47      1      0      0.4736    0.0499     0.3733    0.5673\n",
      "   131       46      0      1      0.4736    0.0499     0.3733    0.5673\n",
      "   149       45      1      0      0.4631    0.0499     0.3632    0.5571\n",
      "   153       44      1      0      0.4526    0.0499     0.3531    0.5468\n",
      "   165       43      1      0      0.4421    0.0498     0.3430    0.5364\n",
      "   180       42      0      1      0.4421    0.0498     0.3430    0.5364\n",
      "   186       41      1      0      0.4313    0.0497     0.3327    0.5258\n",
      "   188       40      1      0      0.4205    0.0497     0.3225    0.5152\n",
      "   207       39      1      0      0.4097    0.0495     0.3123    0.5045\n",
      "   219       38      1      0      0.3989    0.0494     0.3022    0.4938\n",
      "   263       37      1      0      0.3881    0.0492     0.2921    0.4830\n",
      "   265       36      0      1      0.3881    0.0492     0.2921    0.4830\n",
      "   285       35      2      0      0.3660    0.0488     0.2714    0.4608\n",
      "   308       33      1      0      0.3549    0.0486     0.2612    0.4496\n",
      "   334       32      1      0      0.3438    0.0483     0.2510    0.4383\n",
      "   340       31      1      1      0.3327    0.0480     0.2409    0.4270\n",
      "   342       29      1      0      0.3212    0.0477     0.2305    0.4153\n",
      "   370       28      0      1      0.3212    0.0477     0.2305    0.4153\n",
      "   397       27      0      1      0.3212    0.0477     0.2305    0.4153\n",
      "   427       26      0      1      0.3212    0.0477     0.2305    0.4153\n",
      "   445       25      0      1      0.3212    0.0477     0.2305    0.4153\n",
      "   482       24      0      1      0.3212    0.0477     0.2305    0.4153\n",
      "   515       23      0      1      0.3212    0.0477     0.2305    0.4153\n",
      "   545       22      0      1      0.3212    0.0477     0.2305    0.4153\n",
      "   583       21      1      0      0.3059    0.0478     0.2156    0.4008\n",
      "   596       20      0      1      0.3059    0.0478     0.2156    0.4008\n",
      "   620       19      0      1      0.3059    0.0478     0.2156    0.4008\n",
      "   670       18      0      1      0.3059    0.0478     0.2156    0.4008\n",
      "   675       17      1      0      0.2879    0.0483     0.1976    0.3844\n",
      "   733       16      1      0      0.2699    0.0485     0.1802    0.3676\n",
      "   841       15      0      1      0.2699    0.0485     0.1802    0.3676\n",
      "   852       14      1      0      0.2507    0.0487     0.1616    0.3497\n",
      "   915       13      0      1      0.2507    0.0487     0.1616    0.3497\n",
      "   941       12      0      1      0.2507    0.0487     0.1616    0.3497\n",
      "   979       11      1      0      0.2279    0.0493     0.1394    0.3295\n",
      "   995       10      1      0      0.2051    0.0494     0.1183    0.3085\n",
      "  1032        9      1      0      0.1823    0.0489     0.0985    0.2865\n",
      "  1141        8      0      1      0.1823    0.0489     0.0985    0.2865\n",
      "  1321        7      0      1      0.1823    0.0489     0.0985    0.2865\n",
      "  1386        6      1      0      0.1519    0.0493     0.0713    0.2606\n",
      "  1400        5      0      1      0.1519    0.0493     0.0713    0.2606\n",
      "  1407        4      0      1      0.1519    0.0493     0.0713    0.2606\n",
      "  1571        3      0      1      0.1519    0.0493     0.0713    0.2606\n",
      "  1586        2      0      1      0.1519    0.0493     0.0713    0.2606\n",
      "  1799        1      0      1      0.1519    0.0493     0.0713    0.2606\n",
      "------------------------------------------------------------------------\n"
     ]
    }
   ],
   "source": [
    "sts list"
   ]
  },
  {
   "cell_type": "code",
   "execution_count": 11,
   "id": "7f1f28af",
   "metadata": {},
   "outputs": [
    {
     "name": "stdout",
     "output_type": "stream",
     "text": [
      "\n",
      "        Failure _d: died\n",
      "  Analysis time _t: stime\n",
      "\n",
      "             | Number of \n",
      "             |  subjects         50%      Std. err.    [95% conf. interval]\n",
      "-------------+-------------------------------------------------------------\n"
     ]
    },
    {
     "name": "stdout",
     "output_type": "stream",
     "text": [
      "       Total |       103         100      38.64425           69        219\n",
      "\n",
      "        Failure _d: died\n",
      "  Analysis time _t: stime\n",
      "\n",
      "             | Number of \n",
      "             |  subjects         75%      Std. err.    [95% conf. interval]\n",
      "-------------+-------------------------------------------------------------\n"
     ]
    },
    {
     "name": "stdout",
     "output_type": "stream",
     "text": [
      "       Total |       103         979      144.4728          340          .\n",
      "\n",
      "        Failure _d: died\n",
      "  Analysis time _t: stime\n",
      "\n",
      "             | Number of \n",
      "             |  subjects         25%      Std. err.    [95% conf. interval]\n",
      "-------------+-------------------------------------------------------------\n"
     ]
    },
    {
     "name": "stdout",
     "output_type": "stream",
     "text": [
      "       Total |       103          36      9.033439           16         51\n"
     ]
    }
   ],
   "source": [
    "stci\n",
    "\n",
    "stci, p(75)\n",
    "stci, p(25)"
   ]
  },
  {
   "cell_type": "code",
   "execution_count": 12,
   "id": "ecb72b51",
   "metadata": {},
   "outputs": [
    {
     "name": "stdout",
     "output_type": "stream",
     "text": [
      "\n",
      "        Failure _d: died\n",
      "  Analysis time _t: stime\n"
     ]
    },
    {
     "data": {
      "image/png": "[encoded data removed]",
      "text/plain": [
       "<IPython.core.display.Image object>"
      ]
     },
     "metadata": {},
     "output_type": "display_data"
    }
   ],
   "source": [
    "sts graph, ci"
   ]
  },
  {
   "cell_type": "code",
   "execution_count": 13,
   "id": "3cd11193",
   "metadata": {},
   "outputs": [
    {
     "name": "stdout",
     "output_type": "stream",
     "text": [
      "\n",
      "        Failure _d: died\n",
      "  Analysis time _t: stime\n"
     ]
    },
    {
     "data": {
      "image/png": "[encoded data removed]",
      "text/plain": [
       "<IPython.core.display.Image object>"
      ]
     },
     "metadata": {},
     "output_type": "display_data"
    }
   ],
   "source": [
    "sts graph, by(surgery) ci ci1opts(fc(stc1%40))  ci2opts(fc(stc2%40)) legend(pos(6))"
   ]
  },
  {
   "cell_type": "code",
   "execution_count": 14,
   "id": "dc76bbf1",
   "metadata": {},
   "outputs": [
    {
     "name": "stdout",
     "output_type": "stream",
     "text": [
      "\n",
      "        Failure _d: died\n",
      "  Analysis time _t: stime\n",
      "\n",
      "Equality of survivor functions\n",
      "Log-rank test\n",
      "\n",
      "        |  Observed       Expected\n",
      "surgery |    events         events\n",
      "--------+-------------------------\n",
      "      0 |        69          60.34\n",
      "      1 |         6          14.66\n",
      "--------+-------------------------\n",
      "  Total |        75          75.00\n"
     ]
    },
    {
     "name": "stdout",
     "output_type": "stream",
     "text": [
      "\n",
      "                  chi2(1) =   6.59\n",
      "                  Pr>chi2 = 0.0103\n",
      "\n",
      "        Failure _d: died\n",
      "  Analysis time _t: stime\n",
      "\n",
      "Equality of survivor functions\n",
      "Wilcoxon–Breslow–Gehan test\n",
      "\n",
      "        |  Observed       Expected       Sum of\n",
      "surgery |    events         events        ranks\n",
      "--------+--------------------------------------\n",
      "      0 |        69          60.34          623\n",
      "      1 |         6          14.66         -623\n",
      "--------+--------------------------------------\n",
      "  Total |        75          75.00            0\n",
      "\n",
      "                               chi2(1) =   8.99\n",
      "                               Pr>chi2 = 0.0027\n",
      "\n",
      "        Failure _d: died\n",
      "  Analysis time _t: stime\n",
      "\n",
      "Equality of survivor functions\n",
      "Tarone–Ware test\n",
      "\n",
      "        |  Observed       Expected       Sum of\n",
      "surgery |    events         events        ranks\n",
      "--------+--------------------------------------\n",
      "      0 |        69          60.34    73.105398\n",
      "      1 |         6          14.66   -73.105398\n",
      "--------+--------------------------------------\n",
      "  Total |        75          75.00            0\n",
      "\n",
      "                               chi2(1) =   8.46\n",
      "                               Pr>chi2 = 0.0036\n",
      "\n",
      "        Failure _d: died\n",
      "  Analysis time _t: stime\n"
     ]
    },
    {
     "name": "stdout",
     "output_type": "stream",
     "text": [
      "\n",
      "Equality of survivor functions\n",
      "Peto–Peto–Prentice test\n",
      "\n",
      "        |  Observed       Expected       Sum of\n",
      "surgery |    events         events        ranks\n",
      "--------+--------------------------------------\n",
      "      0 |        69          60.34    6.0505875\n",
      "      1 |         6          14.66   -6.0505875\n",
      "--------+--------------------------------------\n",
      "  Total |        75          75.00            0\n",
      "\n",
      "                               chi2(1) =   8.66\n",
      "                               Pr>chi2 = 0.0032\n"
     ]
    }
   ],
   "source": [
    "local test `\" \"l\" \"w\" \"tw\" \"p\" \"'\n",
    "foreach test2 of local test {\n",
    "sts test surgery, `test2'\n",
    "}"
   ]
  },
  {
   "cell_type": "code",
   "execution_count": 15,
   "id": "1546cd7b",
   "metadata": {},
   "outputs": [],
   "source": [
    "*| eval : false\n",
    "ssc install strmst2"
   ]
  },
  {
   "cell_type": "code",
   "execution_count": 16,
   "id": "aba02c3b",
   "metadata": {},
   "outputs": [
    {
     "name": "stdout",
     "output_type": "stream",
     "text": [
      " \n",
      "Number of observations for analysis = 103\n",
      " \n",
      "The truncation time, tau, was not specified. Thus, the default tau (the minimum\n",
      ">  of the\n",
      "largest observed event time within each group), 995.000, is used.\n"
     ]
    },
    {
     "name": "stdout",
     "output_type": "stream",
     "text": [
      "\n",
      "Restricted Mean Survival Time (RMST) by arm\n",
      "-----------------------------------------------------------\n",
      "   Group |  Estimate    Std. Err.      [95% Conf. Interval]\n",
      "---------+-------------------------------------------------\n",
      "   arm 1 |   734.758     104.187      530.554      938.961\n",
      "   arm 0 |   310.168      42.481      226.907      393.429\n",
      "-----------------------------------------------------------\n",
      "\n",
      "Between-group contrast (arm 1 versus arm 0) \n",
      "------------------------------------------------------------------------\n",
      "           Contrast  |  Estimate       [95% Conf. Interval]     P>|z|\n",
      "---------------------+--------------------------------------------------\n",
      "RMST (arm 1 - arm 0) |   424.590      204.064      645.115      0.000\n",
      "RMST (arm 1 / arm 0) |     2.369        1.610        3.486      0.000\n",
      "------------------------------------------------------------------------\n"
     ]
    }
   ],
   "source": [
    "strmst2 surgery"
   ]
  },
  {
   "cell_type": "code",
   "execution_count": 17,
   "id": "1c416def",
   "metadata": {},
   "outputs": [
    {
     "name": "stdout",
     "output_type": "stream",
     "text": [
      "\n",
      "Cox regression with Efron method for ties\n",
      "\n",
      "No. of subjects =    103                                Number of obs =    103\n",
      "No. of failures =     75\n",
      "Time at risk    = 31,938\n",
      "                                                        LR chi2(3)    =  17.63\n",
      "Log likelihood = -289.30639                             Prob > chi2   = 0.0005\n",
      "\n"
     ]
    },
    {
     "name": "stdout",
     "output_type": "stream",
     "text": [
      "------------------------------------------------------------------------------\n"
     ]
    },
    {
     "name": "stdout",
     "output_type": "stream",
     "text": [
      "          _t | Haz. ratio   Std. err.      z    P>|z|     [95% conf. interval]\n"
     ]
    },
    {
     "name": "stdout",
     "output_type": "stream",
     "text": [
      "-------------+----------------------------------------------------------------\n"
     ]
    },
    {
     "name": "stdout",
     "output_type": "stream",
     "text": [
      "        year |"
     ]
    },
    {
     "name": "stdout",
     "output_type": "stream",
     "text": [
      "      0.887      0.060    -1.78   0.076        0.778       1.012\n"
     ]
    },
    {
     "name": "stdout",
     "output_type": "stream",
     "text": [
      "         age |      1.030      0.014     2.19   0.029        1.003       1.058\n",
      "     surgery |      0.373      0.163    -2.26   0.024        0.158       0.876\n"
     ]
    },
    {
     "name": "stdout",
     "output_type": "stream",
     "text": [
      "------------------------------------------------------------------------------\n"
     ]
    }
   ],
   "source": [
    "stcox year age surgery, nolog noshow efron"
   ]
  },
  {
   "cell_type": "code",
   "execution_count": 18,
   "id": "3d6af384",
   "metadata": {},
   "outputs": [
    {
     "name": "stdout",
     "output_type": "stream",
     "text": [
      "\n",
      "Cox regression with Efron method for ties\n",
      "\n",
      "No. of subjects =    103                                Number of obs =    103\n",
      "No. of failures =     75\n",
      "Time at risk    = 31,938\n",
      "                                                        LR chi2(3)    =  17.63\n"
     ]
    },
    {
     "name": "stdout",
     "output_type": "stream",
     "text": [
      "Log likelihood = -289.30639                             Prob > chi2   = 0.0005\n",
      "\n",
      "------------------------------------------------------------------------------\n",
      "          _t | Coefficient  Std. err.      z    P>|z|     [95% conf. interval]\n"
     ]
    },
    {
     "name": "stdout",
     "output_type": "stream",
     "text": [
      "-------------+----------------------------------------------------------------\n",
      "        year |     -0.120      0.067    -1.78   0.076       -0.252       0.012\n",
      "         age |      0.030      0.014     2.19   0.029        0.003       0.056\n",
      "     surgery |     -0.987      0.436    -2.26   0.024       -1.842      -0.132\n",
      "------------------------------------------------------------------------------\n"
     ]
    }
   ],
   "source": [
    "stcox year age surgery, nolog noshow efron nohr"
   ]
  },
  {
   "cell_type": "code",
   "execution_count": 19,
   "id": "0386c77a",
   "metadata": {},
   "outputs": [
    {
     "name": "stdout",
     "output_type": "stream",
     "text": [
      "\n",
      "Test of proportional-hazards assumption\n",
      "\n",
      "Time function: Analysis time\n",
      "--------------------------------------------------------\n",
      "             |        rho     chi2       df    Prob>chi2\n",
      "-------------+------------------------------------------\n",
      "        year |    0.10162     0.80        1       0.3720\n",
      "         age |    0.12937     1.61        1       0.2043\n",
      "     surgery |    0.29664     5.54        1       0.0186\n",
      "-------------+------------------------------------------\n",
      " Global test |                8.76        3       0.0327\n",
      "--------------------------------------------------------\n",
      "\n",
      "Test of proportional-hazards assumption\n",
      "\n",
      "Time function: 1 - Kaplan–Meier estimate\n",
      "--------------------------------------------------------\n",
      "             |        rho     chi2       df    Prob>chi2\n",
      "-------------+------------------------------------------\n",
      "        year |    0.15920     1.96        1       0.1620\n",
      "         age |    0.10907     1.15        1       0.2845\n",
      "     surgery |    0.25096     3.96        1       0.0465\n",
      "-------------+------------------------------------------\n",
      " Global test |                7.99        3       0.0462\n",
      "--------------------------------------------------------\n"
     ]
    }
   ],
   "source": [
    "* f(t)=t - par défaut \n",
    "\n",
    "estat phtest, detail\n",
    "\n",
    "\n",
    "* f(t)= 1-km - solution par défaut de R\n",
    "      \n",
    "estat phtest, detail km"
   ]
  },
  {
   "cell_type": "code",
   "execution_count": 20,
   "id": "ca9c3a5f",
   "metadata": {},
   "outputs": [
    {
     "name": "stdout",
     "output_type": "stream",
     "text": [
      "\n"
     ]
    },
    {
     "name": "stdout",
     "output_type": "stream",
     "text": [
      "\n",
      "Cox regression with Efron method for ties\n",
      "\n",
      "No. of subjects =    103                                Number of obs =    103\n",
      "No. of failures =     75\n",
      "Time at risk    = 31,938\n",
      "                                                        LR chi2(4)    =  21.58\n",
      "Log likelihood = -287.32903                             Prob > chi2   = 0.0002\n",
      "\n"
     ]
    },
    {
     "name": "stdout",
     "output_type": "stream",
     "text": [
      "------------------------------------------------------------------------------\n",
      "          _t | Coefficient  Std. err.      z    P>|z|     [95% conf. interval]\n",
      "-------------+----------------------------------------------------------------\n",
      "main         |\n"
     ]
    },
    {
     "name": "stdout",
     "output_type": "stream",
     "text": [
      "        year |     -0.123      0.067    -1.84   0.066       -0.254       0.008\n",
      "         age |      0.029      0.013     2.15   0.032        0.003       0.055\n",
      "     surgery |     -1.755      0.674    -2.60   0.009       -3.077      -0.433\n",
      "-------------+----------------------------------------------------------------\n",
      "tvc          |\n",
      "     surgery |      0.002      0.001     2.02   0.043        0.000       0.004\n",
      "------------------------------------------------------------------------------\n",
      "Note: Variables in tvc equation interacted with _t.\n"
     ]
    }
   ],
   "source": [
    "stcox year age surgery, nolog noshow efron nohr tvc(surgery) texp(_t)"
   ]
  },
  {
   "cell_type": "code",
   "execution_count": 21,
   "id": "d05f891e",
   "metadata": {},
   "outputs": [
    {
     "name": "stdout",
     "output_type": "stream",
     "text": [
      "\n",
      "Survival-time data settings\n",
      "\n",
      "           ID variable: id\n",
      "         Failure event: died!=0 & died<.\n",
      "Observed time interval: (stime[_n-1], stime]\n",
      "     Exit on or before: failure\n",
      "\n",
      "--------------------------------------------------------------------------\n",
      "        103  total observations\n",
      "          0  exclusions\n",
      "--------------------------------------------------------------------------\n",
      "        103  observations remaining, representing\n",
      "        103  subjects\n",
      "         75  failures in single-failure-per-subject data\n",
      "     31,938  total analysis time at risk and under observation\n",
      "                                                At risk from t =         0\n",
      "                                     Earliest observed entry t =         0\n",
      "                                          Last observed exit t =     1,799\n"
     ]
    }
   ],
   "source": [
    "stset stime, f(died) id(id)"
   ]
  },
  {
   "cell_type": "code",
   "execution_count": 22,
   "id": "b6ba6624",
   "metadata": {},
   "outputs": [
    {
     "name": "stdout",
     "output_type": "stream",
     "text": [
      "(62 failure times)\n"
     ]
    },
    {
     "name": "stdout",
     "output_type": "stream",
     "text": [
      "(3,470 observations (episodes) created)\n",
      "\n",
      "Survival-time data settings\n",
      "\n",
      "           ID variable: id\n",
      "         Failure event: died!=0 & died<.\n",
      "Observed time interval: (stime[_n-1], stime]\n",
      "     Exit on or before: failure\n",
      "\n",
      "--------------------------------------------------------------------------\n",
      "      3,573  total observations\n",
      "          0  exclusions\n",
      "--------------------------------------------------------------------------\n",
      "      3,573  observations remaining, representing\n",
      "        103  subjects\n"
     ]
    },
    {
     "name": "stdout",
     "output_type": "stream",
     "text": [
      "         75  failures in single-failure-per-subject data\n",
      "     31,938  total analysis time at risk and under observation\n",
      "                                                At risk from t =         0\n",
      "                                     Earliest observed entry t =         0\n",
      "                                          Last observed exit t =     1,799\n"
     ]
    }
   ],
   "source": [
    "stsplit, at(failure)\n",
    "\n",
    "stset stime, f(died) id(id)"
   ]
  },
  {
   "cell_type": "code",
   "execution_count": 23,
   "id": "17b6a62c",
   "metadata": {},
   "outputs": [
    {
     "name": "stdout",
     "output_type": "stream",
     "text": [
      "\n",
      "  +--------------------------------------------+\n",
      "  | id   transp~t   wait   tvc   _d   _t   _t0 |\n",
      "  |--------------------------------------------|\n",
      "  | 10          1     12     0    0    1     0 |\n",
      "  | 10          1     12     0    0    2     1 |\n",
      "  | 10          1     12     0    0    3     2 |\n",
      "  | 10          1     12     0    0    5     3 |\n",
      "  | 10          1     12     0    0    6     5 |\n",
      "  |--------------------------------------------|\n",
      "  | 10          1     12     0    0    8     6 |\n",
      "  | 10          1     12     0    0    9     8 |\n",
      "  | 10          1     12     1    0   12     9 |\n",
      "  | 10          1     12     1    0   16    12 |\n",
      "  | 10          1     12     1    0   17    16 |\n",
      "  |--------------------------------------------|\n",
      "  | 10          1     12     1    0   18    17 |\n",
      "  | 10          1     12     1    0   21    18 |\n",
      "  | 10          1     12     1    0   28    21 |\n",
      "  | 10          1     12     1    0   30    28 |\n",
      "  | 10          1     12     1    0   32    30 |\n",
      "  |--------------------------------------------|\n",
      "  | 10          1     12     1    0   35    32 |\n",
      "  | 10          1     12     1    0   36    35 |\n",
      "  | 10          1     12     1    0   37    36 |\n",
      "  | 10          1     12     1    0   39    37 |\n",
      "  | 10          1     12     1    0   40    39 |\n",
      "  |--------------------------------------------|\n",
      "  | 10          1     12     1    0   43    40 |\n",
      "  | 10          1     12     1    0   45    43 |\n",
      "  | 10          1     12     1    0   50    45 |\n",
      "  | 10          1     12     1    0   51    50 |\n",
      "  | 10          1     12     1    0   53    51 |\n",
      "  |--------------------------------------------|\n",
      "  | 10          1     12     1    1   58    53 |\n",
      "  +--------------------------------------------+\n"
     ]
    }
   ],
   "source": [
    "gen tvc = transplant==1 & wait<=_t\n",
    "sort id _t\n",
    "list id transplant wait tvc _d _t _t0 if id==10  , noobs\n"
   ]
  },
  {
   "cell_type": "code",
   "execution_count": 24,
   "id": "2a74cc3b",
   "metadata": {},
   "outputs": [
    {
     "name": "stdout",
     "output_type": "stream",
     "text": [
      "\n",
      "Cox regression with Efron method for ties\n",
      "\n",
      "No. of subjects =    103                                Number of obs =  3,573\n",
      "No. of failures =     75\n",
      "Time at risk    = 31,938\n",
      "                                                        LR chi2(4)    =  17.70\n",
      "Log likelihood = -289.27014                             Prob > chi2   = 0.0014\n",
      "\n",
      "------------------------------------------------------------------------------\n",
      "          _t | Coefficient  Std. err.      z    P>|z|     [95% conf. interval]\n",
      "-------------+----------------------------------------------------------------\n",
      "        year |     -0.120      0.067    -1.79   0.074       -0.252       0.012\n",
      "         age |      0.030      0.014     2.19   0.029        0.003       0.058\n",
      "     surgery |     -0.983      0.437    -2.25   0.024       -1.839      -0.127\n",
      "         tvc |     -0.082      0.305    -0.27   0.787       -0.680       0.515\n",
      "------------------------------------------------------------------------------\n"
     ]
    }
   ],
   "source": [
    "stcox year age surgery tvc, nolog noshow efron nohr"
   ]
  },
  {
   "cell_type": "code",
   "execution_count": 25,
   "id": "bd3cfb9d",
   "metadata": {
    "message": false
   },
   "outputs": [
    {
     "name": "stdout",
     "output_type": "stream",
     "text": [
      "(prefix now \"https://raw.githubusercontent.com//mthevenin/analyse_duree/master/\n",
      "> bases\")\n",
      "(SAVASTATA created this dataset on 01AUG2019)\n",
      "(prefix now \"https://www.stata-press.com/data/r18\")\n"
     ]
    }
   ],
   "source": [
    "*| include: false\n",
    "*| echo: false\n",
    "*| warning: false\n",
    "\n",
    "webuse set \"https://raw.githubusercontent.com//mthevenin/analyse_duree/master/bases/\"\n",
    "webuse  \"transplantation_m\", clear\n",
    "webuse set"
   ]
  },
  {
   "cell_type": "code",
   "execution_count": 26,
   "id": "b9db8980",
   "metadata": {},
   "outputs": [
    {
     "name": "stdout",
     "output_type": "stream",
     "text": [
      "(1,024 observations created)\n",
      "(399 real changes made)\n",
      "\n",
      "     +-------------------------------------------+\n",
      "     | id   year   age   surgery   mois    t   e |\n",
      "     |-------------------------------------------|\n",
      "  1. |  1     67    30         0      2    1   0 |\n",
      "  2. |  1     67    30         0      2    2   1 |\n",
      "  3. |  2     68    51         0      1    1   1 |\n",
      "  4. |  3     68    54         0      1    1   1 |\n",
      "  5. |  4     68    40         0      2    1   0 |\n",
      "     |-------------------------------------------|\n",
      "  6. |  4     68    40         0      2    2   1 |\n",
      "  7. |  5     68    20         0      1    1   1 |\n",
      "  8. |  6     68    54         0      1    1   1 |\n",
      "  9. |  7     68    50         0     23    1   0 |\n",
      " 10. |  7     68    50         0     23    2   0 |\n",
      "     |-------------------------------------------|\n",
      " 11. |  7     68    50         0     23    3   0 |\n",
      " 12. |  7     68    50         0     23    4   0 |\n",
      " 13. |  7     68    50         0     23    5   0 |\n",
      " 14. |  7     68    50         0     23    6   0 |\n",
      " 15. |  7     68    50         0     23    7   0 |\n",
      "     |-------------------------------------------|\n",
      " 16. |  7     68    50         0     23    8   0 |\n",
      " 17. |  7     68    50         0     23    9   0 |\n",
      " 18. |  7     68    50         0     23   10   0 |\n",
      " 19. |  7     68    50         0     23   11   0 |\n",
      " 20. |  7     68    50         0     23   12   0 |\n",
      "     |-------------------------------------------|\n",
      " 21. |  7     68    50         0     23   13   0 |\n",
      " 22. |  7     68    50         0     23   14   0 |\n",
      " 23. |  7     68    50         0     23   15   0 |\n",
      " 24. |  7     68    50         0     23   16   0 |\n",
      " 25. |  7     68    50         0     23   17   0 |\n",
      "     |-------------------------------------------|\n",
      " 26. |  7     68    50         0     23   18   0 |\n",
      " 27. |  7     68    50         0     23   19   0 |\n",
      " 28. |  7     68    50         0     23   20   0 |\n",
      " 29. |  7     68    50         0     23   21   0 |\n",
      " 30. |  7     68    50         0     23   22   0 |\n",
      "     |-------------------------------------------|\n",
      " 31. |  7     68    50         0     23   23   1 |\n",
      "     +-------------------------------------------+\n"
     ]
    }
   ],
   "source": [
    "expand mois\n",
    "bysort id: gen t=_n\n",
    "gen e = died\n",
    "replace e=0 if t<mois\n",
    "\n",
    "list id year age surgery mois t e  in 1/31"
   ]
  },
  {
   "cell_type": "code",
   "execution_count": 27,
   "id": "63a1ed8e",
   "metadata": {},
   "outputs": [
    {
     "name": "stdout",
     "output_type": "stream",
     "text": [
      "\n",
      "Akaike's information criterion and Bayesian information criterion\n",
      "\n",
      "-----------------------------------------------------------------------------\n",
      "       Model |          N   ll(null)  ll(model)      df        AIC        BIC\n",
      "-------------+---------------------------------------------------------------\n",
      "           . |      1,127  -275.6841  -250.2606       2   504.5212   514.5758\n",
      "-----------------------------------------------------------------------------\n",
      "Note: BIC uses N = number of observations. See [R] IC note.\n"
     ]
    },
    {
     "name": "stdout",
     "output_type": "stream",
     "text": [
      "\n",
      "Akaike's information criterion and Bayesian information criterion\n",
      "\n",
      "-----------------------------------------------------------------------------\n",
      "       Model |          N   ll(null)  ll(model)      df        AIC        BIC\n",
      "-------------+---------------------------------------------------------------\n",
      "           . |      1,127  -275.6841  -243.0576       3   492.1152   507.1972\n",
      "-----------------------------------------------------------------------------\n",
      "Note: BIC uses N = number of observations. See [R] IC note.\n"
     ]
    },
    {
     "name": "stdout",
     "output_type": "stream",
     "text": [
      "\n",
      "Akaike's information criterion and Bayesian information criterion\n",
      "\n",
      "-----------------------------------------------------------------------------\n",
      "       Model |          N   ll(null)  ll(model)      df        AIC        BIC\n",
      "-------------+---------------------------------------------------------------\n",
      "           . |      1,127  -275.6841  -254.3782       3   514.7563   529.8383\n",
      "-----------------------------------------------------------------------------\n",
      "Note: BIC uses N = number of observations. See [R] IC note.\n"
     ]
    }
   ],
   "source": [
    "gen t2=t^2\n",
    "gen t3=t^3\n",
    "\n",
    "qui logit e  t ,  nolog \n",
    "estat ic\n",
    "\n",
    "qui logit e  t t2 ,  nolog \n",
    "estat ic\n",
    "\n",
    "qui logit e  t2 t3 ,  nolog \n",
    "estat ic"
   ]
  },
  {
   "cell_type": "code",
   "execution_count": 28,
   "id": "cf4eb026",
   "metadata": {},
   "outputs": [
    {
     "name": "stdout",
     "output_type": "stream",
     "text": [
      "\n",
      "Logistic regression                                     Number of obs =  1,127\n",
      "                                                        LR chi2(6)    =  90.69\n",
      "                                                        Prob > chi2   = 0.0000\n",
      "Log likelihood = -230.33671                             Pseudo R2     = 0.1645\n",
      "\n",
      "------------------------------------------------------------------------------\n",
      "           e | Odds ratio   Std. err.      z    P>|z|     [95% conf. interval]\n",
      "-------------+----------------------------------------------------------------\n",
      "           t |      0.689      0.057    -4.52   0.000        0.587       0.810\n",
      "          t2 |      1.014      0.005     2.83   0.005        1.004       1.024\n",
      "          t3 |      1.000      0.000    -2.11   0.035        1.000       1.000\n",
      "       year2 |      0.876      0.065    -1.80   0.072        0.758       1.012\n",
      "        age2 |      1.034      0.015     2.27   0.023        1.005       1.064\n",
      "     surgery |      0.364      0.163    -2.25   0.024        0.151       0.877\n",
      "       _cons |      0.440      0.110    -3.29   0.001        0.270       0.718\n",
      "------------------------------------------------------------------------------\n",
      "Note: _cons estimates baseline odds.\n"
     ]
    }
   ],
   "source": [
    "qui sum year\n",
    "qui gen year2 = year - `r(mean)'\n",
    "qui sum age\n",
    "qui gen age2 = age - `r(mean)'\n",
    "\n",
    "\n",
    "logit e t t2 t3 year2 age2 surgery, nolog or"
   ]
  },
  {
   "cell_type": "code",
   "execution_count": 29,
   "id": "590db42d",
   "metadata": {
    "message": false
   },
   "outputs": [
    {
     "name": "stdout",
     "output_type": "stream",
     "text": [
      "(prefix now \"https://raw.githubusercontent.com//mthevenin/analyse_duree/master/\n",
      "> bases\")\n"
     ]
    },
    {
     "name": "stdout",
     "output_type": "stream",
     "text": [
      "(SAVASTATA created this dataset on 01AUG2019)\n",
      "(prefix now \"https://www.stata-press.com/data/r18\")\n",
      "(1,024 observations created)\n",
      "(399 real changes made)\n"
     ]
    }
   ],
   "source": [
    "*| include: false\n",
    "*| echo: false\n",
    "*| warning: false\n",
    "\n",
    "webuse set \"https://raw.githubusercontent.com//mthevenin/analyse_duree/master/bases/\"\n",
    "webuse  \"transplantation_m\", clear\n",
    "webuse set\n",
    "\n",
    "expand mois\n",
    "bysort id: gen t=_n\n",
    "gen e = died\n",
    "replace e=0 if t<mois"
   ]
  },
  {
   "cell_type": "code",
   "execution_count": 30,
   "id": "f06fe138",
   "metadata": {},
   "outputs": [
    {
     "name": "stdout",
     "output_type": "stream",
     "text": [
      "(930 observations deleted)\n",
      "\n",
      "         4 |\n",
      " quantiles |           e\n",
      "      of t |         0          1 |     Total\n",
      "-----------+----------------------+----------\n",
      "         1 |        50         53 |       103 \n",
      "         2 |        35         11 |        46 \n",
      "         3 |        27          5 |        32 \n",
      "         4 |        10          6 |        16 \n",
      "-----------+----------------------+----------\n",
      "     Total |       122         75 |       197 \n"
     ]
    }
   ],
   "source": [
    "xtile ct4=t, n(4)\n",
    "bysort id ct4: keep if _n==_N\n",
    "\n",
    "tab  ct4 e"
   ]
  },
  {
   "cell_type": "code",
   "execution_count": 31,
   "id": "92529e1a",
   "metadata": {},
   "outputs": [
    {
     "name": "stdout",
     "output_type": "stream",
     "text": [
      "\n",
      "Logistic regression                                     Number of obs =    197\n",
      "                                                        LR chi2(6)    =  39.30\n",
      "                                                        Prob > chi2   = 0.0000\n",
      "Log likelihood = -111.23965                             Pseudo R2     = 0.1501\n",
      "\n",
      "------------------------------------------------------------------------------\n",
      "           e | Odds ratio   Std. err.      z    P>|z|     [95% conf. interval]\n",
      "-------------+----------------------------------------------------------------\n",
      "         ct4 |\n",
      "          1  |"
     ]
    },
    {
     "name": "stdout",
     "output_type": "stream",
     "text": [
      "      1.000  (base)\n",
      "          2  |      0.356      0.149    -2.47   0.014        0.157       0.809\n",
      "          3  |      0.199      0.108    -2.96   0.003        0.068       0.578\n",
      "          4  |      0.619      0.371    -0.80   0.424        0.191       2.005\n",
      "             |\n",
      "        year |      0.816      0.076    -2.18   0.029        0.680       0.980\n",
      "         age |      1.048      0.019     2.53   0.011        1.011       1.087\n",
      "     surgery |      0.330      0.166    -2.21   0.027        0.123       0.882\n",
      "       _cons |   2.54e+05   1.69e+06     1.87   0.061        0.552    1.17e+11\n",
      "------------------------------------------------------------------------------\n",
      "Note: _cons estimates baseline odds.\n"
     ]
    }
   ],
   "source": [
    "logit e i.ct4  year age surgery,  nolog or"
   ]
  },
  {
   "cell_type": "code",
   "execution_count": 32,
   "id": "c4c4b3d0",
   "metadata": {
    "message": false
   },
   "outputs": [
    {
     "name": "stdout",
     "output_type": "stream",
     "text": [
      "(prefix now \"https://raw.githubusercontent.com//mthevenin/analyse_duree/master/\n",
      "> bases\")\n"
     ]
    },
    {
     "name": "stdout",
     "output_type": "stream",
     "text": [
      "(SAVASTATA created this dataset on 01AUG2019)\n",
      "(prefix now \"https://www.stata-press.com/data/r18\")\n"
     ]
    }
   ],
   "source": [
    "*| include: false\n",
    "*| echo: false\n",
    "*| warning: false\n",
    "\n",
    "webuse set \"https://raw.githubusercontent.com//mthevenin/analyse_duree/master/bases/\"\n",
    "webuse  \"transplantation_m\", clear\n",
    "webuse set\n",
    "\n",
    "\n",
    "qui stset stime, f(died)"
   ]
  },
  {
   "cell_type": "code",
   "execution_count": 33,
   "id": "98128296",
   "metadata": {},
   "outputs": [
    {
     "name": "stdout",
     "output_type": "stream",
     "text": [
      "\n",
      "        Failure _d: died\n",
      "  Analysis time _t: stime\n"
     ]
    },
    {
     "name": "stdout",
     "output_type": "stream",
     "text": [
      "\n"
     ]
    },
    {
     "name": "stdout",
     "output_type": "stream",
     "text": [
      "------------------------------------------------------------------------------\n",
      "          _t | Haz. ratio   Std. err.      z    P>|z|     [95% conf. interval]\n",
      "-------------+----------------------------------------------------------------\n",
      "        year |      0.914      0.061    -1.36   0.175        0.802       1.041\n",
      "         age |      1.035      0.014     2.47   0.014        1.007       1.063\n",
      "     surgery |      0.334      0.145    -2.52   0.012        0.143       0.783\n",
      "       _cons |      5.368     25.895     0.35   0.728        0.000   68506.303\n",
      "-------------+----------------------------------------------------------------\n",
      "       /ln_p |     -0.587      0.093    -6.33   0.000       -0.769      -0.405\n",
      "-------------+----------------------------------------------------------------\n"
     ]
    },
    {
     "name": "stdout",
     "output_type": "stream",
     "text": [
      "           p |      0.556      0.052                         0.464       0.667\n",
      "         1/p |      1.798      0.167                         1.499       2.157\n",
      "------------------------------------------------------------------------------\n",
      "Note: _cons estimates baseline hazard.\n"
     ]
    }
   ],
   "source": [
    "*qui stset stime, f(died) // penser à mettre la base en mode analyse de durée\n",
    "\n",
    "streg year age surgery , dist(weibull) nolog noheader"
   ]
  },
  {
   "cell_type": "code",
   "execution_count": 34,
   "id": "c34f4550",
   "metadata": {},
   "outputs": [
    {
     "name": "stdout",
     "output_type": "stream",
     "text": [
      "\n",
      "        Failure _d: died\n",
      "  Analysis time _t: stime\n"
     ]
    },
    {
     "name": "stdout",
     "output_type": "stream",
     "text": [
      "\n"
     ]
    },
    {
     "name": "stdout",
     "output_type": "stream",
     "text": [
      "------------------------------------------------------------------------------\n",
      "          _t | Coefficient  Std. err.      z    P>|z|     [95% conf. interval]\n",
      "-------------+----------------------------------------------------------------\n",
      "        year |      0.162      0.122     1.33   0.184       -0.077       0.401\n",
      "         age |     -0.062      0.025    -2.49   0.013       -0.110      -0.013\n",
      "     surgery |      1.970      0.779     2.53   0.011        0.443       3.498\n",
      "       _cons |     -3.022      8.728    -0.35   0.729      -20.129      14.085\n",
      "-------------+----------------------------------------------------------------\n",
      "       /ln_p |     -0.587      0.093    -6.33   0.000       -0.769      -0.405\n",
      "-------------+----------------------------------------------------------------\n",
      "           p |      0.556      0.052                         0.464       0.667\n",
      "         1/p |      1.798      0.167                         1.499       2.157\n",
      "------------------------------------------------------------------------------\n"
     ]
    }
   ],
   "source": [
    "streg year age surgery , dist(weibull) time nolog noheader"
   ]
  },
  {
   "cell_type": "code",
   "execution_count": 35,
   "id": "80cf7416",
   "metadata": {},
   "outputs": [],
   "source": [
    "*| eval: FALSE\n",
    "\n",
    "ssc install stcompet\n",
    "ssc install stcomlist"
   ]
  },
  {
   "cell_type": "code",
   "execution_count": 36,
   "id": "191152cb",
   "metadata": {},
   "outputs": [
    {
     "name": "stdout",
     "output_type": "stream",
     "text": [
      "\n",
      "Survival-time data settings\n",
      "\n",
      "         Failure event: compet==1\n",
      "Observed time interval: (0, stime]\n",
      "     Exit on or before: failure\n",
      "\n",
      "--------------------------------------------------------------------------\n",
      "        103  total observations\n",
      "          0  exclusions\n",
      "--------------------------------------------------------------------------\n",
      "        103  observations remaining, representing\n",
      "         56  failures in single-record/single-failure data\n",
      "     31,938  total analysis time at risk and under observation\n",
      "                                                At risk from t =         0\n",
      "                                     Earliest observed entry t =         0\n",
      "                                          Last observed exit t =     1,799\n"
     ]
    },
    {
     "name": "stdout",
     "output_type": "stream",
     "text": [
      "\n",
      "            failure:  compet == 1\n",
      " competing failures:  compet == 2\n",
      "\n",
      "    Time       CIF         SE     [95% Conf. Int.]\n",
      "--------------------------------------------------\n",
      "       1    0.0097     0.0097     0.0009    0.0477\n",
      "       2    0.0388     0.0190     0.0127    0.0892\n",
      "       3    0.0583     0.0231     0.0239    0.1149\n",
      "       5    0.0777     0.0264     0.0363    0.1395\n",
      "       6    0.0874     0.0278     0.0429    0.1515\n",
      "       8    0.0971     0.0292     0.0497    0.1634\n",
      "       9    0.1068     0.0304     0.0566    0.1751\n",
      "      12    0.1166     0.0316     0.0638    0.1868\n",
      "      16    0.1362     0.0338     0.0785    0.2099\n",
      "      18    0.1461     0.0349     0.0860    0.2212\n",
      "      21    0.1657     0.0367     0.1014    0.2437\n",
      "      32    0.1756     0.0376     0.1093    0.2550\n",
      "      37    0.1856     0.0384     0.1173    0.2662\n",
      "      40    0.1957     0.0393     0.1254    0.2775\n",
      "      43    0.2058     0.0400     0.1337    0.2888\n",
      "      45    0.2158     0.0408     0.1420    0.2999\n",
      "      50    0.2259     0.0415     0.1503    0.3110\n",
      "      51    0.2360     0.0422     0.1588    0.3221\n",
      "      53    0.2461     0.0428     0.1673    0.3330\n",
      "      58    0.2562     0.0434     0.1759    0.3439\n",
      "      61    0.2662     0.0440     0.1845    0.3548\n",
      "      66    0.2763     0.0445     0.1932    0.3656\n",
      "      69    0.2864     0.0450     0.2020    0.3763\n",
      "      72    0.3066     0.0459     0.2197    0.3976\n",
      "      77    0.3167     0.0464     0.2286    0.4082\n",
      "      78    0.3267     0.0467     0.2376    0.4187\n",
      "      81    0.3368     0.0471     0.2466    0.4292\n",
      "      85    0.3469     0.0475     0.2556    0.4396\n",
      "      90    0.3570     0.0478     0.2648    0.4500\n"
     ]
    },
    {
     "name": "stdout",
     "output_type": "stream",
     "text": [
      "      96    0.3671     0.0481     0.2739    0.4604\n",
      "     102    0.3771     0.0484     0.2831    0.4707\n",
      "     110    0.3874     0.0487     0.2925    0.4812\n",
      "     149    0.3980     0.0489     0.3021    0.4920\n",
      "     165    0.4085     0.0492     0.3118    0.5027\n",
      "     186    0.4193     0.0495     0.3217    0.5137\n",
      "     188    0.4301     0.0497     0.3316    0.5246\n",
      "     207    0.4408     0.0499     0.3417    0.5354\n",
      "     219    0.4516     0.0501     0.3517    0.5462\n",
      "     263    0.4624     0.0502     0.3618    0.5570\n",
      "     285    0.4846     0.0505     0.3826    0.5791\n",
      "     308    0.4957     0.0506     0.3931    0.5900\n",
      "     340    0.5068     0.0507     0.4037    0.6009\n",
      "     583    0.5221     0.0514     0.4171    0.6168\n",
      "     675    0.5401     0.0524     0.4322    0.6361\n",
      "     733    0.5580     0.0532     0.4477    0.6548\n",
      "     995    0.5808     0.0548     0.4659    0.6795\n",
      "    1032    0.6036     0.0559     0.4851    0.7031\n",
      "    1386    0.6340     0.0583     0.5083    0.7357\n",
      "\n",
      "\n",
      "            failure:  compet == 2\n",
      " competing failures:  compet == 1\n",
      "\n",
      "    Time       CIF         SE     [95% Conf. Int.]\n",
      "--------------------------------------------------\n",
      "       3    0.0097     0.0097     0.0009    0.0477\n",
      "       6    0.0194     0.0136     0.0038    0.0619\n",
      "      16    0.0292     0.0166     0.0079    0.0761\n",
      "      17    0.0391     0.0191     0.0128    0.0897\n",
      "      28    0.0489     0.0213     0.0182    0.1029\n",
      "      30    0.0587     0.0232     0.0240    0.1157\n",
      "      35    0.0686     0.0250     0.0302    0.1286\n",
      "      36    0.0786     0.0267     0.0367    0.1411\n",
      "      39    0.0885     0.0282     0.0435    0.1534\n",
      "      40    0.0986     0.0296     0.0504    0.1658\n",
      "      68    0.1188     0.0322     0.0650    0.1901\n",
      "      80    0.1288     0.0334     0.0724    0.2020\n",
      "     100    0.1389     0.0345     0.0800    0.2138\n",
      "     153    0.1495     0.0356     0.0880    0.2261\n",
      "     334    0.1605     0.0368     0.0964    0.2392\n",
      "     342    0.1720     0.0381     0.1052    0.2526\n",
      "     852    0.1913     0.0417     0.1175    0.2787\n",
      "     979    0.2141     0.0460     0.1320    0.3094\n"
     ]
    }
   ],
   "source": [
    "stset stime, failure(compet==1)\n",
    "stcomlist, compet1(2)"
   ]
  },
  {
   "cell_type": "code",
   "execution_count": 37,
   "id": "c13614f5",
   "metadata": {},
   "outputs": [
    {
     "name": "stdout",
     "output_type": "stream",
     "text": [
      "(399 real changes made)\n",
      "\n"
     ]
    },
    {
     "name": "stdout",
     "output_type": "stream",
     "text": [
      "Iteration 0:  Log likelihood = -318.13171  \n",
      "Iteration 1:  Log likelihood = -285.78811  \n",
      "Iteration 2:  Log likelihood = -275.20206  \n",
      "Iteration 3:  Log likelihood = -275.00574  \n",
      "Iteration 4:  Log likelihood = -275.00542  \n",
      "Iteration 5:  Log likelihood = -275.00542  \n"
     ]
    },
    {
     "name": "stdout",
     "output_type": "stream",
     "text": [
      "------------------------------------------------------------------------------\n",
      "           e |        RRR   Std. err.      z    P>|z|     [95% conf. interval]\n",
      "-------------+----------------------------------------------------------------\n"
     ]
    },
    {
     "name": "stdout",
     "output_type": "stream",
     "text": [
      "0            |  (base outcome)\n"
     ]
    },
    {
     "name": "stdout",
     "output_type": "stream",
     "text": [
      "-------------+----------------------------------------------------------------\n",
      "1            |\n",
      "           t |      0.816      0.034    -4.91   0.000        0.752       0.885\n",
      "          t2 |      1.003      0.001     3.53   0.000        1.001       1.005\n",
      "       year2 |      0.879      0.072    -1.57   0.116        0.749       1.032\n",
      "        age2 |      1.045      0.018     2.51   0.012        1.010       1.081\n",
      "     surgery |      0.318      0.171    -2.13   0.033        0.110       0.913\n",
      "       _cons |      0.222      0.052    -6.49   0.000        0.141       0.350\n",
      "-------------+----------------------------------------------------------------\n",
      "2            |\n",
      "           t |      0.817      0.056    -2.93   0.003        0.713       0.935\n",
      "          t2 |      1.003      0.002     1.94   0.052        1.000       1.006\n",
      "       year2 |      0.816      0.113    -1.47   0.141        0.622       1.070\n",
      "        age2 |      1.011      0.025     0.45   0.654        0.964       1.061\n",
      "     surgery |      0.541      0.422    -0.79   0.431        0.117       2.496\n",
      "       _cons |      0.078      0.029    -6.94   0.000        0.038       0.160\n",
      "------------------------------------------------------------------------------\n",
      "Note: _cons estimates baseline relative risk for each outcome.\n"
     ]
    }
   ],
   "source": [
    "qui expand mois\n",
    "qui bysort id: gen t=_n\n",
    "qui gen t2=t*t\n",
    "\n",
    "qui sum year\n",
    "qui gen year2 = year - `r(mean)'\n",
    "qui sum age\n",
    "qui gen age2 = age - `r(mean)'\n",
    "\n",
    "gen e = compet\n",
    "replace e=0 if t<mois\n",
    "mlogit e t t2 year2 age2 surgery, rrr noheader"
   ]
  }
 ],
 "metadata": {
  "kernelspec": {
   "display_name": "Stata (nbstata)",
   "language": "stata",
   "name": "nbstata"
  },
  "language_info": {
   "file_extension": ".do",
   "mimetype": "text/x-stata",
   "name": "stata",
   "version": "17"
  }
 },
 "nbformat": 4,
 "nbformat_minor": 5
}